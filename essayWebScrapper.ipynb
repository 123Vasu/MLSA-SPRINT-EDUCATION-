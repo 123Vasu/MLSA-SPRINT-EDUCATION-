{
  "nbformat": 4,
  "nbformat_minor": 0,
  "metadata": {
    "colab": {
      "provenance": [],
      "authorship_tag": "ABX9TyPDrNcCv8GxrMkP5xgSUkfa",
      "include_colab_link": true
    },
    "kernelspec": {
      "name": "python3",
      "display_name": "Python 3"
    },
    "language_info": {
      "name": "python"
    }
  },
  "cells": [
    {
      "cell_type": "markdown",
      "metadata": {
        "id": "view-in-github",
        "colab_type": "text"
      },
      "source": [
        "<a href=\"https://colab.research.google.com/github/123Vasu/MLSA-SPRINT-EDUCATION-/blob/main/essayWebScrapper.ipynb\" target=\"_parent\"><img src=\"https://colab.research.google.com/assets/colab-badge.svg\" alt=\"Open In Colab\"/></a>"
      ]
    },
    {
      "cell_type": "code",
      "source": [
        "import requests\n",
        "from bs4 import BeautifulSoup\n",
        "import pandas as pd"
      ],
      "metadata": {
        "id": "0XdBZawmHAV-"
      },
      "execution_count": 1,
      "outputs": []
    },
    {
      "cell_type": "code",
      "execution_count": 2,
      "metadata": {
        "id": "Gc5l4Vn1Gcm2"
      },
      "outputs": [],
      "source": [
        "# Sample query\n",
        "query = 'education essays'\n",
        "\n",
        "# Wikipedia search URL\n",
        "url = f'https://en.wikipedia.org/w/index.php?title=Special:Search&limit=100000&offset=0&ns0=1&search={query}'\n",
        "\n",
        "# Send a GET request to the search URL\n",
        "response = requests.get(url)\n",
        "\n",
        "# Parse the HTML content using Beautiful Soup\n",
        "soup = BeautifulSoup(response.content, 'html.parser')\n",
        "\n",
        "# Extract all the links from the search results\n",
        "links = soup.find_all('a', href=True)\n",
        "\n",
        "# Filter out the links that point to Wikipedia articles\n",
        "essay_links = [link['href'] for link in links if link['href'].startswith('/wiki/') and ':' not in link['href']]"
      ]
    },
    {
      "cell_type": "code",
      "source": [
        "# Extract essay content from each link\n",
        "essays = []\n",
        "for i in range(100):\n",
        "    url = f'https://en.wikipedia.org{essay_links[i]}'\n",
        "    response = requests.get(url)\n",
        "    soup = BeautifulSoup(response.content, 'html.parser')\n",
        "    content = soup.find('div', {'class': 'mw-parser-output'}).get_text()\n",
        "    essays.append(content)"
      ],
      "metadata": {
        "id": "l5vv6VZBGyIx"
      },
      "execution_count": 3,
      "outputs": []
    },
    {
      "cell_type": "code",
      "source": [
        "# Sample grades for the essays\n",
        "grades = []\n",
        "for i in range(100):\n",
        "  grades.append(i)\n",
        "\n",
        "# Create a DataFrame from the essays and grades\n",
        "df = pd.DataFrame({'essay': essays, 'grade': grades})\n",
        "\n",
        "# Save the DataFrame to a CSV file\n",
        "df.to_csv('essay_dataset.csv', index=False)"
      ],
      "metadata": {
        "id": "Ow8BKpTxGzjZ"
      },
      "execution_count": 4,
      "outputs": []
    }
  ]
}